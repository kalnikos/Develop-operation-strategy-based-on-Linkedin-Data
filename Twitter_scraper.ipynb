{
  "nbformat": 4,
  "nbformat_minor": 0,
  "metadata": {
    "colab": {
      "name": "Twitter_scraper.ipynb",
      "provenance": [],
      "collapsed_sections": [],
      "toc_visible": true,
      "authorship_tag": "ABX9TyN24a14w2WzV4nvnEnLoW3G",
      "include_colab_link": true
    },
    "kernelspec": {
      "name": "python3",
      "display_name": "Python 3"
    },
    "language_info": {
      "name": "python"
    }
  },
  "cells": [
    {
      "cell_type": "markdown",
      "metadata": {
        "id": "view-in-github",
        "colab_type": "text"
      },
      "source": [
        "<a href=\"https://colab.research.google.com/github/kalnikos/Develop-operation-strategy-based-on-Linkedin-Data/blob/main/Twitter_scraper.ipynb\" target=\"_parent\"><img src=\"https://colab.research.google.com/assets/colab-badge.svg\" alt=\"Open In Colab\"/></a>"
      ]
    },
    {
      "cell_type": "code",
      "execution_count": 3,
      "metadata": {
        "id": "U0Fd8vZ11yAB"
      },
      "outputs": [],
      "source": [
        "import pandas as pd\n",
        "import numpy as np\n",
        "import snscrape.modules.twitter as sntweets\n"
      ]
    },
    {
      "cell_type": "code",
      "source": [
        "pip install snscrape"
      ],
      "metadata": {
        "colab": {
          "base_uri": "https://localhost:8080/"
        },
        "id": "2TvON0mn6AFa",
        "outputId": "9913b161-ac5f-4d97-ede4-8d515d314226"
      },
      "execution_count": 1,
      "outputs": [
        {
          "output_type": "stream",
          "name": "stdout",
          "text": [
            "Looking in indexes: https://pypi.org/simple, https://us-python.pkg.dev/colab-wheels/public/simple/\n",
            "Collecting snscrape\n",
            "  Downloading snscrape-0.3.4-py3-none-any.whl (35 kB)\n",
            "Requirement already satisfied: beautifulsoup4 in /usr/local/lib/python3.7/dist-packages (from snscrape) (4.6.3)\n",
            "Requirement already satisfied: requests[socks] in /usr/local/lib/python3.7/dist-packages (from snscrape) (2.23.0)\n",
            "Requirement already satisfied: lxml in /usr/local/lib/python3.7/dist-packages (from snscrape) (4.2.6)\n",
            "Requirement already satisfied: urllib3!=1.25.0,!=1.25.1,<1.26,>=1.21.1 in /usr/local/lib/python3.7/dist-packages (from requests[socks]->snscrape) (1.24.3)\n",
            "Requirement already satisfied: chardet<4,>=3.0.2 in /usr/local/lib/python3.7/dist-packages (from requests[socks]->snscrape) (3.0.4)\n",
            "Requirement already satisfied: idna<3,>=2.5 in /usr/local/lib/python3.7/dist-packages (from requests[socks]->snscrape) (2.10)\n",
            "Requirement already satisfied: certifi>=2017.4.17 in /usr/local/lib/python3.7/dist-packages (from requests[socks]->snscrape) (2022.5.18.1)\n",
            "Requirement already satisfied: PySocks!=1.5.7,>=1.5.6 in /usr/local/lib/python3.7/dist-packages (from requests[socks]->snscrape) (1.7.1)\n",
            "Installing collected packages: snscrape\n",
            "Successfully installed snscrape-0.3.4\n"
          ]
        }
      ]
    },
    {
      "cell_type": "code",
      "source": [
        "from datetime import date\n",
        "from datetime import datetime, timedelta\n",
        "def date_from():\n",
        "  x = date.today() - timedelta(365) \n",
        "  return str(x)"
      ],
      "metadata": {
        "id": "1rJ2ymBIAppz"
      },
      "execution_count": 23,
      "outputs": []
    },
    {
      "cell_type": "code",
      "source": [
        "def query_create(tweet):\n",
        "  query = str(tweet) + ' since:' + str(date_from())\n",
        "  return query\n",
        "\n",
        "\n"
      ],
      "metadata": {
        "id": "97yixIR-_M02"
      },
      "execution_count": 30,
      "outputs": []
    },
    {
      "cell_type": "code",
      "source": [
        "tweets = []\n",
        "querys = ['menabrea']\n",
        "for query in querys:\n",
        "    for tweet in sntweets.TwitterSearchScraper(query_create(query)).get_items():\n",
        "      tweets.append([tweet.date, tweet.id, tweet.content, tweet.username])\n",
        "      # Creating a dataframe from the tweets list above\n",
        "      tweets_df2 = pd.DataFrame(tweets, columns=['Datetime', 'Tweet Id', 'Text', 'Username'])\n",
        "\n",
        "\n",
        "  \n"
      ],
      "metadata": {
        "id": "HwDfGXDu6ZOO"
      },
      "execution_count": 32,
      "outputs": []
    },
    {
      "cell_type": "code",
      "source": [
        "tweets_df2.shape"
      ],
      "metadata": {
        "colab": {
          "base_uri": "https://localhost:8080/"
        },
        "id": "OhnBFwmd6ZUX",
        "outputId": "8bc596cb-e526-4cbb-a768-afbc9adbaa05"
      },
      "execution_count": 33,
      "outputs": [
        {
          "output_type": "execute_result",
          "data": {
            "text/plain": [
              "(1192, 4)"
            ]
          },
          "metadata": {},
          "execution_count": 33
        }
      ]
    },
    {
      "cell_type": "code",
      "source": [
        "tweets_df2"
      ],
      "metadata": {
        "colab": {
          "base_uri": "https://localhost:8080/",
          "height": 641
        },
        "id": "oCimDXFB6ZXM",
        "outputId": "b384131b-4445-4319-dbcc-d0bb3b96218c"
      },
      "execution_count": 34,
      "outputs": [
        {
          "output_type": "execute_result",
          "data": {
            "text/plain": [
              "                      Datetime             Tweet Id  \\\n",
              "0    2022-05-29 15:37:42+00:00  1530936427646799872   \n",
              "1    2022-05-28 20:28:16+00:00  1530647162983436288   \n",
              "2    2022-05-28 19:56:35+00:00  1530639188646830081   \n",
              "3    2022-05-28 19:00:27+00:00  1530625062956589057   \n",
              "4    2022-05-28 18:40:46+00:00  1530620110553112577   \n",
              "...                        ...                  ...   \n",
              "1187 2021-05-31 16:26:45+00:00  1399401976274866187   \n",
              "1188 2021-05-31 15:59:54+00:00  1399395218424832005   \n",
              "1189 2021-05-31 14:22:07+00:00  1399370612246814720   \n",
              "1190 2021-05-31 00:12:50+00:00  1399156882883891209   \n",
              "1191 2021-05-30 20:03:04+00:00  1399094026456817666   \n",
              "\n",
              "                                                   Text         Username  \n",
              "0     I got introduced to the menabrea beer last nig...        mmelisses  \n",
              "1                      @higgelly Nice pint of menabrea.  legionofthebold  \n",
              "2     @weeevee Cuttla Menabrea in the fridge friend ...   Michaelputts90  \n",
              "3     @Dean72__ You need to try Menabrea. £2 for 660...  DavidJohnMacLe2  \n",
              "4     Birra Menabrea - Ambrata (***) 5,0%\\n\\n#beeron...     brunnenbraeu  \n",
              "...                                                 ...              ...  \n",
              "1187  Drinking a Menabrea Ambrata by G. Menabrea &am...        GeoFlo333  \n",
              "1188                  @Jimkingofkings Love a Menabrea 👌          Kav3128  \n",
              "1189                @_valegenni Menabrea ottima birra 🍺   gianpi36590925  \n",
              "1190                                           Menabrea  LewisKennedy555  \n",
              "1191  Cracking day out with Vicky and the kids in No...           Desp86  \n",
              "\n",
              "[1192 rows x 4 columns]"
            ],
            "text/html": [
              "\n",
              "  <div id=\"df-e4f37bb5-ed65-4923-b17b-ee9e0ba9329a\">\n",
              "    <div class=\"colab-df-container\">\n",
              "      <div>\n",
              "<style scoped>\n",
              "    .dataframe tbody tr th:only-of-type {\n",
              "        vertical-align: middle;\n",
              "    }\n",
              "\n",
              "    .dataframe tbody tr th {\n",
              "        vertical-align: top;\n",
              "    }\n",
              "\n",
              "    .dataframe thead th {\n",
              "        text-align: right;\n",
              "    }\n",
              "</style>\n",
              "<table border=\"1\" class=\"dataframe\">\n",
              "  <thead>\n",
              "    <tr style=\"text-align: right;\">\n",
              "      <th></th>\n",
              "      <th>Datetime</th>\n",
              "      <th>Tweet Id</th>\n",
              "      <th>Text</th>\n",
              "      <th>Username</th>\n",
              "    </tr>\n",
              "  </thead>\n",
              "  <tbody>\n",
              "    <tr>\n",
              "      <th>0</th>\n",
              "      <td>2022-05-29 15:37:42+00:00</td>\n",
              "      <td>1530936427646799872</td>\n",
              "      <td>I got introduced to the menabrea beer last nig...</td>\n",
              "      <td>mmelisses</td>\n",
              "    </tr>\n",
              "    <tr>\n",
              "      <th>1</th>\n",
              "      <td>2022-05-28 20:28:16+00:00</td>\n",
              "      <td>1530647162983436288</td>\n",
              "      <td>@higgelly Nice pint of menabrea.</td>\n",
              "      <td>legionofthebold</td>\n",
              "    </tr>\n",
              "    <tr>\n",
              "      <th>2</th>\n",
              "      <td>2022-05-28 19:56:35+00:00</td>\n",
              "      <td>1530639188646830081</td>\n",
              "      <td>@weeevee Cuttla Menabrea in the fridge friend ...</td>\n",
              "      <td>Michaelputts90</td>\n",
              "    </tr>\n",
              "    <tr>\n",
              "      <th>3</th>\n",
              "      <td>2022-05-28 19:00:27+00:00</td>\n",
              "      <td>1530625062956589057</td>\n",
              "      <td>@Dean72__ You need to try Menabrea. £2 for 660...</td>\n",
              "      <td>DavidJohnMacLe2</td>\n",
              "    </tr>\n",
              "    <tr>\n",
              "      <th>4</th>\n",
              "      <td>2022-05-28 18:40:46+00:00</td>\n",
              "      <td>1530620110553112577</td>\n",
              "      <td>Birra Menabrea - Ambrata (***) 5,0%\\n\\n#beeron...</td>\n",
              "      <td>brunnenbraeu</td>\n",
              "    </tr>\n",
              "    <tr>\n",
              "      <th>...</th>\n",
              "      <td>...</td>\n",
              "      <td>...</td>\n",
              "      <td>...</td>\n",
              "      <td>...</td>\n",
              "    </tr>\n",
              "    <tr>\n",
              "      <th>1187</th>\n",
              "      <td>2021-05-31 16:26:45+00:00</td>\n",
              "      <td>1399401976274866187</td>\n",
              "      <td>Drinking a Menabrea Ambrata by G. Menabrea &amp;am...</td>\n",
              "      <td>GeoFlo333</td>\n",
              "    </tr>\n",
              "    <tr>\n",
              "      <th>1188</th>\n",
              "      <td>2021-05-31 15:59:54+00:00</td>\n",
              "      <td>1399395218424832005</td>\n",
              "      <td>@Jimkingofkings Love a Menabrea 👌</td>\n",
              "      <td>Kav3128</td>\n",
              "    </tr>\n",
              "    <tr>\n",
              "      <th>1189</th>\n",
              "      <td>2021-05-31 14:22:07+00:00</td>\n",
              "      <td>1399370612246814720</td>\n",
              "      <td>@_valegenni Menabrea ottima birra 🍺</td>\n",
              "      <td>gianpi36590925</td>\n",
              "    </tr>\n",
              "    <tr>\n",
              "      <th>1190</th>\n",
              "      <td>2021-05-31 00:12:50+00:00</td>\n",
              "      <td>1399156882883891209</td>\n",
              "      <td>Menabrea</td>\n",
              "      <td>LewisKennedy555</td>\n",
              "    </tr>\n",
              "    <tr>\n",
              "      <th>1191</th>\n",
              "      <td>2021-05-30 20:03:04+00:00</td>\n",
              "      <td>1399094026456817666</td>\n",
              "      <td>Cracking day out with Vicky and the kids in No...</td>\n",
              "      <td>Desp86</td>\n",
              "    </tr>\n",
              "  </tbody>\n",
              "</table>\n",
              "<p>1192 rows × 4 columns</p>\n",
              "</div>\n",
              "      <button class=\"colab-df-convert\" onclick=\"convertToInteractive('df-e4f37bb5-ed65-4923-b17b-ee9e0ba9329a')\"\n",
              "              title=\"Convert this dataframe to an interactive table.\"\n",
              "              style=\"display:none;\">\n",
              "        \n",
              "  <svg xmlns=\"http://www.w3.org/2000/svg\" height=\"24px\"viewBox=\"0 0 24 24\"\n",
              "       width=\"24px\">\n",
              "    <path d=\"M0 0h24v24H0V0z\" fill=\"none\"/>\n",
              "    <path d=\"M18.56 5.44l.94 2.06.94-2.06 2.06-.94-2.06-.94-.94-2.06-.94 2.06-2.06.94zm-11 1L8.5 8.5l.94-2.06 2.06-.94-2.06-.94L8.5 2.5l-.94 2.06-2.06.94zm10 10l.94 2.06.94-2.06 2.06-.94-2.06-.94-.94-2.06-.94 2.06-2.06.94z\"/><path d=\"M17.41 7.96l-1.37-1.37c-.4-.4-.92-.59-1.43-.59-.52 0-1.04.2-1.43.59L10.3 9.45l-7.72 7.72c-.78.78-.78 2.05 0 2.83L4 21.41c.39.39.9.59 1.41.59.51 0 1.02-.2 1.41-.59l7.78-7.78 2.81-2.81c.8-.78.8-2.07 0-2.86zM5.41 20L4 18.59l7.72-7.72 1.47 1.35L5.41 20z\"/>\n",
              "  </svg>\n",
              "      </button>\n",
              "      \n",
              "  <style>\n",
              "    .colab-df-container {\n",
              "      display:flex;\n",
              "      flex-wrap:wrap;\n",
              "      gap: 12px;\n",
              "    }\n",
              "\n",
              "    .colab-df-convert {\n",
              "      background-color: #E8F0FE;\n",
              "      border: none;\n",
              "      border-radius: 50%;\n",
              "      cursor: pointer;\n",
              "      display: none;\n",
              "      fill: #1967D2;\n",
              "      height: 32px;\n",
              "      padding: 0 0 0 0;\n",
              "      width: 32px;\n",
              "    }\n",
              "\n",
              "    .colab-df-convert:hover {\n",
              "      background-color: #E2EBFA;\n",
              "      box-shadow: 0px 1px 2px rgba(60, 64, 67, 0.3), 0px 1px 3px 1px rgba(60, 64, 67, 0.15);\n",
              "      fill: #174EA6;\n",
              "    }\n",
              "\n",
              "    [theme=dark] .colab-df-convert {\n",
              "      background-color: #3B4455;\n",
              "      fill: #D2E3FC;\n",
              "    }\n",
              "\n",
              "    [theme=dark] .colab-df-convert:hover {\n",
              "      background-color: #434B5C;\n",
              "      box-shadow: 0px 1px 3px 1px rgba(0, 0, 0, 0.15);\n",
              "      filter: drop-shadow(0px 1px 2px rgba(0, 0, 0, 0.3));\n",
              "      fill: #FFFFFF;\n",
              "    }\n",
              "  </style>\n",
              "\n",
              "      <script>\n",
              "        const buttonEl =\n",
              "          document.querySelector('#df-e4f37bb5-ed65-4923-b17b-ee9e0ba9329a button.colab-df-convert');\n",
              "        buttonEl.style.display =\n",
              "          google.colab.kernel.accessAllowed ? 'block' : 'none';\n",
              "\n",
              "        async function convertToInteractive(key) {\n",
              "          const element = document.querySelector('#df-e4f37bb5-ed65-4923-b17b-ee9e0ba9329a');\n",
              "          const dataTable =\n",
              "            await google.colab.kernel.invokeFunction('convertToInteractive',\n",
              "                                                     [key], {});\n",
              "          if (!dataTable) return;\n",
              "\n",
              "          const docLinkHtml = 'Like what you see? Visit the ' +\n",
              "            '<a target=\"_blank\" href=https://colab.research.google.com/notebooks/data_table.ipynb>data table notebook</a>'\n",
              "            + ' to learn more about interactive tables.';\n",
              "          element.innerHTML = '';\n",
              "          dataTable['output_type'] = 'display_data';\n",
              "          await google.colab.output.renderOutput(dataTable, element);\n",
              "          const docLink = document.createElement('div');\n",
              "          docLink.innerHTML = docLinkHtml;\n",
              "          element.appendChild(docLink);\n",
              "        }\n",
              "      </script>\n",
              "    </div>\n",
              "  </div>\n",
              "  "
            ]
          },
          "metadata": {},
          "execution_count": 34
        }
      ]
    },
    {
      "cell_type": "code",
      "source": [
        ""
      ],
      "metadata": {
        "id": "QAGocoGy6ZaT"
      },
      "execution_count": null,
      "outputs": []
    },
    {
      "cell_type": "code",
      "source": [
        ""
      ],
      "metadata": {
        "id": "bxl34Av56Zcw"
      },
      "execution_count": null,
      "outputs": []
    },
    {
      "cell_type": "code",
      "source": [
        ""
      ],
      "metadata": {
        "id": "DwTG6xK56Zff"
      },
      "execution_count": null,
      "outputs": []
    },
    {
      "cell_type": "code",
      "source": [
        ""
      ],
      "metadata": {
        "id": "g5vQ78xU6Zi2"
      },
      "execution_count": null,
      "outputs": []
    }
  ]
}